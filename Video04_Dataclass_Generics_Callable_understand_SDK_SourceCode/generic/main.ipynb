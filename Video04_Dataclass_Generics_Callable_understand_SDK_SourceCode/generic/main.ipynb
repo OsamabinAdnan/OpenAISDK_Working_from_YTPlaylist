{
 "cells": [
  {
   "cell_type": "markdown",
   "id": "50d1969b",
   "metadata": {},
   "source": [
    "## **Generics in Python**\n",
    "\n",
    "Generics allow us to define functions and classes that can operate on different data types while maintaining type safety.\n",
    "\n",
    "**Note:** Enable type checking in colab in the menu Tools > Settings > Editor (scroll to bottom) Code diagnostics and choose `Syntax` and `type checking`. It then underlines type errors in red and hovering them displays the message:"
   ]
  },
  {
   "cell_type": "markdown",
   "id": "d2a32160",
   "metadata": {},
   "source": [
    "### **1. Introduction to Generics**"
   ]
  },
  {
   "cell_type": "code",
   "execution_count": 6,
   "id": "50705e72",
   "metadata": {},
   "outputs": [
    {
     "name": "stdout",
     "output_type": "stream",
     "text": [
      "1\n",
      "a\n"
     ]
    }
   ],
   "source": [
    "# Example without Generics\n",
    "\n",
    "def first_element(items):\n",
    "    return items[0]\n",
    "\n",
    "nums = [1, 2, 3]\n",
    "strings = [\"a\", \"b\", \"c\"]\n",
    "\n",
    "print(first_element(nums)) # 1\n",
    "print(first_element(strings)) # 'a'\n",
    "\n",
    "# Issue: No type checking. We can't restrict or inform about expected data types explicitly."
   ]
  },
  {
   "cell_type": "markdown",
   "id": "222b338e",
   "metadata": {},
   "source": [
    "### **2. Using Generics**\n",
    "-----\n",
    "\n",
    "Generics let you create functions, methods, or classes that can work with multiple types while preserving type relationships.\n",
    "Generic:\n",
    "\n",
    "* Better communicate the intent of your code\n",
    "* Allow static type checking to verify correctness\n",
    "\n",
    "In Python, this is done by **`TypeVar`**\n",
    "\n",
    "- Using `TypeVar` First, import TypeVar and define a generic type variable `T`:"
   ]
  },
  {
   "cell_type": "code",
   "execution_count": 7,
   "id": "2590efbe",
   "metadata": {},
   "outputs": [],
   "source": [
    "from typing import TypeVar\n",
    "\n",
    "T = TypeVar(\"T\") # T is a placeholder for a type and represent a generic type."
   ]
  },
  {
   "cell_type": "markdown",
   "id": "57198ce2",
   "metadata": {},
   "source": [
    "* T is a placeholder that can be **replaced with any type** when the function is called.\n",
    "* The **actual type is inferred at runtime**"
   ]
  },
  {
   "cell_type": "code",
   "execution_count": null,
   "id": "ba0fc8a6",
   "metadata": {},
   "outputs": [
    {
     "name": "stdout",
     "output_type": "stream",
     "text": [
      "1\n",
      "a\n"
     ]
    }
   ],
   "source": [
    "from typing import TypeVar\n",
    "\n",
    "# Type variable for generic typing\n",
    "T = TypeVar(\"T\")\n",
    "\n",
    "def generic_first_element(items:list[T]) -> T:\n",
    "    return items[0]\n",
    "\n",
    "num_result = generic_first_element(nums) # type inferred as int\n",
    "string_result = generic_first_element(strings) # type inferred as str\n",
    "\n",
    "print(num_result) # 1\n",
    "print(string_result) # 'a'"
   ]
  }
 ],
 "metadata": {
  "kernelspec": {
   "display_name": "Python 3",
   "language": "python",
   "name": "python3"
  },
  "language_info": {
   "codemirror_mode": {
    "name": "ipython",
    "version": 3
   },
   "file_extension": ".py",
   "mimetype": "text/x-python",
   "name": "python",
   "nbconvert_exporter": "python",
   "pygments_lexer": "ipython3",
   "version": "3.13.2"
  }
 },
 "nbformat": 4,
 "nbformat_minor": 5
}
