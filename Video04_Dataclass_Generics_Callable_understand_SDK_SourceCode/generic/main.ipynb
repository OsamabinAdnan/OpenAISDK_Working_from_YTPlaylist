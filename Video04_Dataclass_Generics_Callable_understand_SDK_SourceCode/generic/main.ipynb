{
 "cells": [
  {
   "cell_type": "markdown",
   "id": "50d1969b",
   "metadata": {},
   "source": [
    "## **Generics in Python**\n",
    "\n",
    "Generics allow us to define functions and classes that can operate on different data types while maintaining type safety.\n",
    "\n",
    "**Note:** Enable type checking in colab in the menu Tools > Settings > Editor (scroll to bottom) Code diagnostics and choose `Syntax` and `type checking`. It then underlines type errors in red and hovering them displays the message:"
   ]
  },
  {
   "cell_type": "markdown",
   "id": "d2a32160",
   "metadata": {},
   "source": [
    "### **1. Introduction to Generics**\n",
    "-----"
   ]
  },
  {
   "cell_type": "code",
   "execution_count": 14,
   "id": "50705e72",
   "metadata": {},
   "outputs": [
    {
     "name": "stdout",
     "output_type": "stream",
     "text": [
      "1\n",
      "a\n"
     ]
    }
   ],
   "source": [
    "# Example without Generics\n",
    "\n",
    "def first_element(items):\n",
    "    return items[0]\n",
    "\n",
    "nums = [1, 2, 3]\n",
    "strings = [\"a\", \"b\", \"c\"]\n",
    "\n",
    "print(first_element(nums)) # 1\n",
    "print(first_element(strings)) # 'a'\n",
    "\n",
    "# Issue: No type checking. We can't restrict or inform about expected data types explicitly."
   ]
  },
  {
   "cell_type": "markdown",
   "id": "222b338e",
   "metadata": {},
   "source": [
    "### **2. Using Generics**\n",
    "-----\n",
    "\n",
    "Generics let you create functions, methods, or classes that can work with multiple types while preserving type relationships.\n",
    "Generic:\n",
    "\n",
    "* Better communicate the intent of your code\n",
    "* Allow static type checking to verify correctness\n",
    "\n",
    "In Python, this is done by **`TypeVar`**\n",
    "\n",
    "- Using `TypeVar` First, import TypeVar and define a generic type variable `T`:"
   ]
  },
  {
   "cell_type": "code",
   "execution_count": 15,
   "id": "2590efbe",
   "metadata": {},
   "outputs": [],
   "source": [
    "from typing import TypeVar\n",
    "\n",
    "T = TypeVar(\"T\") # T is a placeholder for a type and represent a generic type."
   ]
  },
  {
   "cell_type": "markdown",
   "id": "57198ce2",
   "metadata": {},
   "source": [
    "* T is a placeholder that can be **replaced with any type** when the function is called.\n",
    "* The **actual type is inferred at runtime**"
   ]
  },
  {
   "cell_type": "markdown",
   "id": "48c5a86f",
   "metadata": {},
   "source": [
    "**Infer**\n",
    "\n",
    "- I will pass a list where all items will have same type\n",
    "- `T` is like fill in the blank, T will be whatever type we define\n",
    "- Whatever type of `T` will be returned"
   ]
  },
  {
   "cell_type": "code",
   "execution_count": 16,
   "id": "ba0fc8a6",
   "metadata": {},
   "outputs": [
    {
     "name": "stdout",
     "output_type": "stream",
     "text": [
      "1\n",
      "a\n"
     ]
    }
   ],
   "source": [
    "from typing import TypeVar\n",
    "\n",
    "# Type variable for generic typing\n",
    "# Analogy: Think of T as fill in the blank.\n",
    "T = TypeVar(\"T\")\n",
    "\n",
    "def generic_first_element(items:list[T]) -> T:\n",
    "    return items[0]\n",
    "\n",
    "num_result = generic_first_element(nums) # type inferred as int\n",
    "string_result = generic_first_element(strings) # type inferred as str\n",
    "\n",
    "print(num_result) # 1\n",
    "print(string_result) # 'a'"
   ]
  },
  {
   "cell_type": "markdown",
   "id": "df60b73c",
   "metadata": {},
   "source": [
    "### **❌ Disadvantages of using `Any`**\n",
    "\n",
    "#### **Loss of Type Safety**\n",
    "\n",
    "* Using Any disables static type checking. You can pass anything, and the type checker won't help catch bugs.\n",
    "\n",
    "#### **No Type Inference**\n",
    "\n",
    "* IDEs and linters can't infer what the return type will be.\n",
    "* That means worse auto-complete and fewer helpful warnings.\n",
    "\n",
    "#### **Doesn't Enforce Homogeneity**\n",
    "\n",
    "* A list like [1, \"two\", 3.0] would be allowed without warning. Using generics, you can enforce all elements are of the same type (e.g., List[int])."
   ]
  },
  {
   "cell_type": "markdown",
   "id": "8e037486",
   "metadata": {},
   "source": [
    "### **✅ Better: Use Generics**\n",
    "\n",
    "#### **Preserves Type Information**\n",
    "\n",
    "```bash\n",
    "x = first_element([1, 2, 3])  # x is inferred as int\n",
    "y = first_element([\"a\", \"b\"])  # y is inferred as str\n",
    "```\n",
    "\n",
    "#### **Static Checking Works**\n",
    "\n",
    "* If you try to use `.upper()` on an `int`, the type checker will warn you.\n",
    "\n",
    "#### **Better Tooling Support**\n",
    "\n",
    "* IDEs (e.g., PyCharm, VSCode) provide better autocompletion and diagnostics."
   ]
  },
  {
   "cell_type": "markdown",
   "id": "c4be6695",
   "metadata": {},
   "source": [
    "### **Dictionary Example using two generic types (K and V)**"
   ]
  },
  {
   "cell_type": "code",
   "execution_count": 17,
   "id": "853b42be",
   "metadata": {},
   "outputs": [],
   "source": [
    "from typing import TypeVar\n",
    "\n",
    "K = TypeVar(\"K\")\n",
    "V = TypeVar(\"V\")\n",
    "\n",
    "def get_item(container: dict[K, V], key:K) -> V:\n",
    "    return container[key]\n"
   ]
  },
  {
   "cell_type": "markdown",
   "id": "300c626f",
   "metadata": {},
   "source": [
    "Here it's clear that:\n",
    "* The key must match the dictionary key type (K)\n",
    "* The returned value is always the type of dictionary's value (V)\n",
    "\n",
    "Using this:"
   ]
  },
  {
   "cell_type": "code",
   "execution_count": 18,
   "id": "085628b9",
   "metadata": {},
   "outputs": [
    {
     "name": "stdout",
     "output_type": "stream",
     "text": [
      "2\n"
     ]
    }
   ],
   "source": [
    "d = {\"a\": 1, \"b\": 2, \"c\": 3}\n",
    "value = get_item(d, \"b\")\n",
    "print(value)"
   ]
  },
  {
   "cell_type": "markdown",
   "id": "2f9d6a7e",
   "metadata": {},
   "source": [
    "### **3. Generic Classes**\n",
    "----"
   ]
  },
  {
   "cell_type": "code",
   "execution_count": 19,
   "id": "e5e2edc4",
   "metadata": {},
   "outputs": [
    {
     "name": "stdout",
     "output_type": "stream",
     "text": [
      "Stack of Integers\n",
      "\n",
      "Stack(items=[])\n",
      "Limit = 10\n",
      "30\n",
      "Stack(items=[10, 20])\n",
      "\n",
      "Stack of strings:\n",
      "\n",
      "Stack(items=[])\n",
      "python\n",
      "Stack(items=['hello', 'world'])\n"
     ]
    }
   ],
   "source": [
    "from typing import TypeVar, Generic, ClassVar\n",
    "from dataclasses import dataclass, field\n",
    "\n",
    "# Type variable for generic type\n",
    "T = TypeVar(\"T\")\n",
    "\n",
    "@dataclass\n",
    "class Stack(Generic[T]): # we can also write it as class Stack(Generic[T]):\n",
    "\n",
    "    # Instance variable\n",
    "    items:list[T] = field(default_factory=list)\n",
    "\n",
    "    # Class variable\n",
    "    limit: ClassVar[int] = 10\n",
    "\n",
    "    def push(self, item:T) ->None:\n",
    "        self.items.append(item)\n",
    "    \n",
    "    def pop(self) -> T:\n",
    "        return self.items.pop()\n",
    "\n",
    "print(\"Stack of Integers\\n\")\n",
    "stack_of_ints = Stack[int]()\n",
    "print(stack_of_ints)\n",
    "print(\"Limit =\",stack_of_ints.limit)\n",
    "\n",
    "stack_of_ints.push(10)\n",
    "stack_of_ints.push(20)\n",
    "stack_of_ints.push(30)\n",
    "\n",
    "print(stack_of_ints.pop())\n",
    "print(stack_of_ints)\n",
    "\n",
    "print(\"\\nStack of strings:\\n\")\n",
    "\n",
    "stack_of_strings = Stack[str]()\n",
    "print(stack_of_strings)\n",
    "\n",
    "stack_of_strings.push(\"hello\")\n",
    "stack_of_strings.push(\"world\")\n",
    "stack_of_strings.push(\"python\")\n",
    "\n",
    "print(stack_of_strings.pop())\n",
    "print(stack_of_strings)"
   ]
  },
  {
   "cell_type": "markdown",
   "id": "9c287099",
   "metadata": {},
   "source": [
    "**Key Points About Generics and Type Variable T**\n",
    "\n",
    "**1. Type Variable T:**\n",
    "\n",
    "* When T appears with Generic, it represents a placeholder type\n",
    "* Any class property or method parameter marked with T will use this placeholder type\n",
    "* The actual type is determined when the class is instantiated\n",
    "\n",
    "**2. Type Consistency:**\n",
    "\n",
    "* Once T is specified (e.g., Stack[int]), all occurrences of T in that instance must be the same type\n",
    "* This ensures type safety throughout the class\n",
    "* Example: If T is int, you can't push strings to that stack\n",
    "\n",
    "**3. Type Definition:**\n",
    "\n",
    "* T starts as undefined (like a blank template)\n",
    "* The specific type is provided when creating an instance (e.g., Stack[str]())\n",
    "* Common types used: int, str, float, bool, or custom classes\n",
    "\n",
    "```bash\n",
    "# Creating different typed stacks\n",
    "number_stack = Stack[int]()      # T becomes int\n",
    "text_stack = Stack[str]()        # T becomes str\n",
    "\n",
    "number_stack.push(42)            # ✓ Valid\n",
    "number_stack.push(\"hello\")       # × Type Error\n",
    "text_stack.push(\"hello\")         # ✓ Valid\n",
    "text_stack.push(42)              # × Type Error\n",
    "```"
   ]
  }
 ],
 "metadata": {
  "kernelspec": {
   "display_name": "Python 3",
   "language": "python",
   "name": "python3"
  },
  "language_info": {
   "codemirror_mode": {
    "name": "ipython",
    "version": 3
   },
   "file_extension": ".py",
   "mimetype": "text/x-python",
   "name": "python",
   "nbconvert_exporter": "python",
   "pygments_lexer": "ipython3",
   "version": "3.13.2"
  }
 },
 "nbformat": 4,
 "nbformat_minor": 5
}
