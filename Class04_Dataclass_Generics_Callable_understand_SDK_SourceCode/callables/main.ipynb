{
 "cells": [
  {
   "cell_type": "markdown",
   "id": "cddcf722",
   "metadata": {},
   "source": [
    "## **4. Callables in Python**\n",
    "\n",
    "In python, a `callable` is anything that can be called using (...). This most commonly refers to functions (e.g., def foo():...), but `classes` (via __call__), **lambdas**, **functools.partial** objects and so on can be callables"
   ]
  },
  {
   "cell_type": "markdown",
   "id": "717f9319",
   "metadata": {},
   "source": [
    "### **4.1 Basic Callabale Type Hint**\n",
    "\n",
    "To specify that a variable, parameter, or attribute is a function or callable, Python provides the `Callable` type hint. The typical usage is:"
   ]
  },
  {
   "cell_type": "code",
   "execution_count": 1,
   "id": "4e91a694",
   "metadata": {},
   "outputs": [
    {
     "name": "stdout",
     "output_type": "stream",
     "text": [
      "typing.Callable[[int, int], str]\n"
     ]
    }
   ],
   "source": [
    "from typing import Callable\n",
    "\n",
    "# A callable that take 2 intergers and return a string\n",
    "myFuncType = Callable[[int, int], str]\n",
    "\n",
    "print(myFuncType)"
   ]
  },
  {
   "cell_type": "code",
   "execution_count": null,
   "id": "4c901357",
   "metadata": {},
   "outputs": [
    {
     "name": "stdout",
     "output_type": "stream",
     "text": [
      "12\n"
     ]
    }
   ],
   "source": [
    "# Usage\n",
    "\n",
    "from dataclasses import dataclass\n",
    "from typing import Callable\n",
    "\n",
    "@dataclass\n",
    "class Calculator:\n",
    "    operation: Callable[[int, int], str]\n",
    "\n",
    "    # We call also made this method callable by applying  __call__ method\n",
    "    def calculate(self, a:int, b:int) -> str:\n",
    "        return self.operation(a, b)\n",
    "\n",
    "def add_and_stringify (x:int, y:int) -> str:\n",
    "    return str(x + y)\n",
    "\n",
    "cal = Calculator(operation=add_and_stringify)\n",
    "print(cal.calculate(5, 7)) # When we used __call__ method, we can call it like this print(cal(5, 7)), no need of calculate method"
   ]
  },
  {
   "cell_type": "markdown",
   "id": "ae9e7296",
   "metadata": {},
   "source": [
    "### **4.2 Generic Callables**\n",
    "\n",
    "Generics let you parameterize a callable's input or output types using `TypeVar` - For example:"
   ]
  }
 ],
 "metadata": {
  "kernelspec": {
   "display_name": "Python 3",
   "language": "python",
   "name": "python3"
  },
  "language_info": {
   "codemirror_mode": {
    "name": "ipython",
    "version": 3
   },
   "file_extension": ".py",
   "mimetype": "text/x-python",
   "name": "python",
   "nbconvert_exporter": "python",
   "pygments_lexer": "ipython3",
   "version": "3.13.2"
  }
 },
 "nbformat": 4,
 "nbformat_minor": 5
}
