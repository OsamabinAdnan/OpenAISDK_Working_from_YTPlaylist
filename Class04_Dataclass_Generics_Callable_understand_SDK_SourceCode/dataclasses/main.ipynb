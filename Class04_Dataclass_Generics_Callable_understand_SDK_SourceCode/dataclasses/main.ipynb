{
 "cells": [
  {
   "cell_type": "markdown",
   "id": "31a5238f",
   "metadata": {},
   "source": [
    "### **01_basic_dataclasses.py - Basic usage of dataclasses**\n",
    "\n",
    "This file demonstrates the proper use of dataclasses for simple data structures.\n",
    "\n",
    "Link of this code in official repo \n",
    "[Basic Dataclass](https://github.com/panaversity/learn-agentic-ai/blob/main/00_openai_agents/00_python_syntax/01_basic_dataclasses.py)"
   ]
  },
  {
   "cell_type": "code",
   "execution_count": 14,
   "id": "aff5cfde",
   "metadata": {},
   "outputs": [
    {
     "name": "stdout",
     "output_type": "stream",
     "text": [
      "=== GOOD DATACLASS EXAMPLE ===\n",
      "Person1 : Person(name='John', age=25, email='2K7t2@example.com', tags=['developer'])\n",
      "Person2 : Person(name='Alice', age=20, email=None, tags=[])\n",
      "Person3 : Person(name='Bob', age=17, email=None, tags=['student', 'part time', 'hobby'])\n",
      "Is John an adult? True\n",
      "Is Alice an adult? True\n",
      "Is Bob an adult? False\n"
     ]
    }
   ],
   "source": [
    "from dataclasses import dataclass, field\n",
    "from typing import List, Optional\n",
    "\n",
    "# GOOD EXAMPLE: Simple dataclass with type hints\n",
    "@dataclass\n",
    "class Person:\n",
    "    name: str\n",
    "    age: int\n",
    "    # We can also used str | None = None as well\n",
    "    email: Optional[str] = None # email is optional, if person provide email, it will be a string, if not, it will be None\n",
    "    \n",
    "    # Using field() with default_factory for mutable default values\n",
    "    # We cant provide directly mutable (empty list) default values to dataclass fields because everything in python is reference, if we provide empty list instead of field then data location of empty list will be binded to tags and when user use this class same list location will be carry forwarded\n",
    "    tags: List[str] = field(default_factory=list)\n",
    "\n",
    "    def is_adult(self) -> bool:\n",
    "        \"\"\"Example method which used the dataclass attributes\"\"\"\n",
    "        return self.age >= 18\n",
    "\n",
    "def demo_good_usage():\n",
    "    # Creating instances\n",
    "    person1 = Person(name=\"John\", age=25, email=\"2K7t2@example.com\")\n",
    "    person2 = Person(name=\"Alice\", age=20)\n",
    "    person3 = Person(name=\"Bob\", age=17, tags=[\"student\", \"part time\", \"hobby\"])\n",
    "\n",
    "    # Adding to a mutable field\n",
    "    person1.tags.append(\"developer\")\n",
    "\n",
    "    # Using the build in string representation\n",
    "    print(f\"Person1 : {person1}\")\n",
    "    print(f\"Person2 : {person2}\" )\n",
    "    print(f\"Person3 : {person3}\")\n",
    "\n",
    "    # Using the instance method\n",
    "    print(f\"Is {person1.name} an adult? {person1.is_adult()}\")\n",
    "    print(f\"Is {person2.name} an adult? {person2.is_adult()}\")\n",
    "    print(f\"Is {person3.name} an adult? {person3.is_adult()}\")\n",
    "\n",
    "if __name__ == \"__main__\":\n",
    "    print(\"=== GOOD DATACLASS EXAMPLE ===\")\n",
    "    demo_good_usage()"
   ]
  },
  {
   "cell_type": "code",
   "execution_count": 19,
   "id": "71ffc491",
   "metadata": {},
   "outputs": [
    {
     "name": "stdout",
     "output_type": "stream",
     "text": [
      "=== BAD DATACLASS EXAMPLE ===\n",
      "PersonBad 1: PersonBad(name=Alice, age=30, email=alice@example.com, tags=['developer'])\n",
      "PersonBad 2: PersonBad(name=Bob, age=25, email=None, tags=[])\n"
     ]
    }
   ],
   "source": [
    "# BAD EXAMPLE: Class without dataclass\n",
    "class PersonBad:\n",
    "    def __init__(self, name, age, email=None, tags = None):\n",
    "        self.name = name\n",
    "        self.age = age\n",
    "        self.email = email\n",
    "        self.tags = tags if tags is not None else []\n",
    "    \n",
    "    # Have to manually define string representation\n",
    "    def __repr__(self):\n",
    "        return f\"PersonBad(name={self.name}, age={self.age}, email={self.email}, tags={self.tags})\"\n",
    "\n",
    "    # Have to manually define equality\n",
    "    def __eq__(self, other):\n",
    "        if not isinstance(other, PersonBad):\n",
    "            return False\n",
    "        return (\n",
    "            self.name == other.name and\n",
    "            self.age == other.age and\n",
    "            self.email == other.email and\n",
    "            self.tags == other.tags\n",
    "        )\n",
    "\n",
    "def demo_bad_usage():\n",
    "    # More verbose and error-prone without dataclasses\n",
    "    person1 = PersonBad(\"Alice\", 30, \"alice@example.com\", [\"developer\"])\n",
    "    person2 = PersonBad(\"Bob\", 25)\n",
    "\n",
    "    print(f\"PersonBad 1: {person1}\")\n",
    "    print(f\"PersonBad 2: {person2}\")\n",
    "\n",
    "if __name__ == \"__main__\":\n",
    "    print(\"=== BAD DATACLASS EXAMPLE ===\")\n",
    "    demo_bad_usage()"
   ]
  }
 ],
 "metadata": {
  "kernelspec": {
   "display_name": "Python 3",
   "language": "python",
   "name": "python3"
  },
  "language_info": {
   "codemirror_mode": {
    "name": "ipython",
    "version": 3
   },
   "file_extension": ".py",
   "mimetype": "text/x-python",
   "name": "python",
   "nbconvert_exporter": "python",
   "pygments_lexer": "ipython3",
   "version": "3.13.2"
  }
 },
 "nbformat": 4,
 "nbformat_minor": 5
}
