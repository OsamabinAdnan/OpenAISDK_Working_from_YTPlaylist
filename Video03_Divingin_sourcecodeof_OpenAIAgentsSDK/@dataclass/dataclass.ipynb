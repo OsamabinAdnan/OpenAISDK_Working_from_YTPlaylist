{
 "cells": [
  {
   "cell_type": "markdown",
   "id": "1b454b7a",
   "metadata": {},
   "source": [
    "## **@dataclass**"
   ]
  },
  {
   "cell_type": "code",
   "execution_count": 1,
   "id": "d76f5185",
   "metadata": {},
   "outputs": [],
   "source": [
    "from dataclasses import dataclass"
   ]
  },
  {
   "cell_type": "code",
   "execution_count": 2,
   "id": "9f590d15",
   "metadata": {},
   "outputs": [],
   "source": [
    "from typing import ClassVar\n",
    "\n",
    "@dataclass # data class is not possible without type hints\n",
    "class American:\n",
    "\n",
    "    # Below square bracket representation is called Generic. The reason of writing in square brackets is to indicate that this is a generic type.\n",
    "    # Class variables\n",
    "    national_language:ClassVar[str] = \"English\" # Class variable\n",
    "    national_food: ClassVar[str] = \"Hamburger\" # Class variable\n",
    "    normal_body_temp:ClassVar[float] = 98.6 # Class variable\n",
    "\n",
    "    # Instance variables\n",
    "    name:str # Instance variable\n",
    "    age:int # Instance variable\n",
    "    weight:float # Instance variable\n",
    "    liked_food : str # Instance variable\n",
    "\n",
    "    def speak(self):\n",
    "        return f\"{self.name} speaks {American.national_language}.\"\n",
    "\n",
    "    # Instance method\n",
    "    def eat (self):\n",
    "        return f\"{self.name} is eating.\"\n",
    "    \n",
    "    @staticmethod\n",
    "    def country_language():\n",
    "        return f\"The language of the country is {American.national_language}.\""
   ]
  },
  {
   "cell_type": "code",
   "execution_count": 3,
   "id": "3eefed11",
   "metadata": {},
   "outputs": [
    {
     "name": "stdout",
     "output_type": "stream",
     "text": [
      "John speaks English.\n",
      "John is eating.\n",
      "English\n",
      "The language of the country is English.\n"
     ]
    }
   ],
   "source": [
    "# Making instance of American class\n",
    "john = American(name=\"John\", age=30, weight=70.5, liked_food=\"Pizza\")\n",
    "\n",
    "# Accessing instance methods\n",
    "print(john.speak()) # Output: John speaks English.\n",
    "print(john.eat()) # Output: John is eating.\n",
    "\n",
    "# Accessing class variable\n",
    "print(American.national_language) # Output: English\n",
    "\n",
    "# Accessing static method\n",
    "print(American.country_language()) # Output: The language of the country is English.\n"
   ]
  },
  {
   "cell_type": "code",
   "execution_count": 4,
   "id": "96342b65",
   "metadata": {},
   "outputs": [
    {
     "name": "stdout",
     "output_type": "stream",
     "text": [
      "John\n",
      "30\n",
      "70.5\n",
      "Pizza\n",
      "English\n"
     ]
    }
   ],
   "source": [
    "print(john.name)\n",
    "print(john.age)\n",
    "print(john.weight)\n",
    "print(john.liked_food)\n",
    "print(American.national_language)"
   ]
  },
  {
   "cell_type": "markdown",
   "id": "b852ec47",
   "metadata": {},
   "source": [
    "## **Callable Function**"
   ]
  },
  {
   "cell_type": "code",
   "execution_count": 7,
   "id": "499c0ec5",
   "metadata": {},
   "outputs": [
    {
     "name": "stdout",
     "output_type": "stream",
     "text": [
      "Hi\n",
      "The methods of functions are: ['__annotations__', '__builtins__', '__call__', '__class__', '__closure__', '__code__', '__defaults__', '__delattr__', '__dict__', '__dir__', '__doc__', '__eq__', '__format__', '__ge__', '__get__', '__getattribute__', '__getstate__', '__globals__', '__gt__', '__hash__', '__init__', '__init_subclass__', '__kwdefaults__', '__le__', '__lt__', '__module__', '__name__', '__ne__', '__new__', '__qualname__', '__reduce__', '__reduce_ex__', '__repr__', '__setattr__', '__sizeof__', '__str__', '__subclasshook__', '__type_params__']\n"
     ]
    }
   ],
   "source": [
    "def greet():\n",
    "    return \"Hi\"\n",
    "\n",
    "print(greet())\n",
    "print(f\"The methods of functions are: {dir(greet)}\")"
   ]
  },
  {
   "cell_type": "markdown",
   "id": "ccc73bfc",
   "metadata": {},
   "source": [
    "## **Another Example**"
   ]
  },
  {
   "cell_type": "code",
   "execution_count": 19,
   "id": "2f4640b5",
   "metadata": {},
   "outputs": [
    {
     "name": "stdout",
     "output_type": "stream",
     "text": [
      "Alice\n",
      "28\n",
      "Hello, my name is Alice and I am 28 years old.\n",
      "Alice is working.\n"
     ]
    }
   ],
   "source": [
    "@dataclass\n",
    "class Human:\n",
    "    name: str\n",
    "    age: int\n",
    "\n",
    "    def greet(self):\n",
    "        return f\"Hello, my name is {self.name} and I am {self.age} years old.\"\n",
    "    \n",
    "    def work(self):\n",
    "        return f\"{self.name} is working.\"\n",
    "    \n",
    "    def __call__(self):\n",
    "        return \"This method is callable\"\n",
    "\n",
    "obj1 = Human(name=\"Alice\", age=28)\n",
    "\n",
    "# Accessing instance variables of Human class\n",
    "print(obj1.name)  # Output: Alice\n",
    "print(obj1.age)   # Output: 28\n",
    "# Accessing instance methods of Human class\n",
    "print(obj1.greet())  # Output: Hello, my name is Alice and I am 28 years old.\n",
    "print(obj1.work())   # Output: Alice is working."
   ]
  },
  {
   "cell_type": "code",
   "execution_count": 18,
   "id": "5ef70929",
   "metadata": {},
   "outputs": [
    {
     "ename": "TypeError",
     "evalue": "'Human' object is not callable",
     "output_type": "error",
     "traceback": [
      "\u001b[1;31m---------------------------------------------------------------------------\u001b[0m",
      "\u001b[1;31mTypeError\u001b[0m                                 Traceback (most recent call last)",
      "Cell \u001b[1;32mIn[18], line 2\u001b[0m\n\u001b[0;32m      1\u001b[0m \u001b[38;5;66;03m#  We are trying to make object callable but it is callable only if we define __call__ method in the class.\u001b[39;00m\n\u001b[1;32m----> 2\u001b[0m \u001b[43mobj1\u001b[49m\u001b[43m(\u001b[49m\u001b[43m)\u001b[49m\n",
      "\u001b[1;31mTypeError\u001b[0m: 'Human' object is not callable"
     ]
    }
   ],
   "source": [
    "#  We are trying to make object callable but it is callable only if we define __call__ method in the class.\n",
    "obj1()"
   ]
  },
  {
   "cell_type": "code",
   "execution_count": 21,
   "id": "3f72025c",
   "metadata": {},
   "outputs": [
    {
     "data": {
      "text/plain": [
       "'This method is callable'"
      ]
     },
     "execution_count": 21,
     "metadata": {},
     "output_type": "execute_result"
    }
   ],
   "source": [
    "# Now we made a method __call__ in the class Human, not obj1() is callable.\n",
    "# By default, all functions are callable, but objects are not callable unless we define a __call__ method in the class.\n",
    "obj1()"
   ]
  }
 ],
 "metadata": {
  "kernelspec": {
   "display_name": "Python 3",
   "language": "python",
   "name": "python3"
  },
  "language_info": {
   "codemirror_mode": {
    "name": "ipython",
    "version": 3
   },
   "file_extension": ".py",
   "mimetype": "text/x-python",
   "name": "python",
   "nbconvert_exporter": "python",
   "pygments_lexer": "ipython3",
   "version": "3.13.2"
  }
 },
 "nbformat": 4,
 "nbformat_minor": 5
}
