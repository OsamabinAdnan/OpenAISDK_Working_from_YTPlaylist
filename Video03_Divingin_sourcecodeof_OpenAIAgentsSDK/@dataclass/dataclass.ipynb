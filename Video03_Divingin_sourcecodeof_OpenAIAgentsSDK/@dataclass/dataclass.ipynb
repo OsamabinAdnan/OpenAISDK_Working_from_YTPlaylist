{
 "cells": [
  {
   "cell_type": "markdown",
   "id": "1b454b7a",
   "metadata": {},
   "source": [
    "## **@dataclass**"
   ]
  },
  {
   "cell_type": "code",
   "execution_count": 11,
   "id": "d76f5185",
   "metadata": {},
   "outputs": [],
   "source": [
    "from dataclasses import dataclass"
   ]
  },
  {
   "cell_type": "code",
   "execution_count": null,
   "id": "9f590d15",
   "metadata": {},
   "outputs": [],
   "source": [
    "from typing import ClassVar\n",
    "\n",
    "@dataclass # data class is not possible without type hints\n",
    "class American:\n",
    "\n",
    "    # Below square bracket representation is called Generic. The reason of writing in square brackets is to indicate that this is a generic type.\n",
    "    # Class variables\n",
    "    national_language:ClassVar[str] = \"English\" # Class variable\n",
    "    national_food: ClassVar[str] = \"Hamburger\" # Class variable\n",
    "    normal_body_temp:ClassVar[float] = 98.6 # Class variable\n",
    "\n",
    "    # Instance variables\n",
    "    name:str # Instance variable\n",
    "    age:int # Instance variable\n",
    "    weight:float # Instance variable\n",
    "    liked_food : str # Instance variable\n",
    "\n",
    "    def speak(self):\n",
    "        return f\"{self.name} speaks {American.national_language}.\"\n",
    "\n",
    "    # Instance method\n",
    "    def eat (self):\n",
    "        return f\"{self.name} is eating.\"\n",
    "    \n",
    "    @staticmethod\n",
    "    def country_language():\n",
    "        return f\"The language of the country is {American.national_language}.\""
   ]
  },
  {
   "cell_type": "code",
   "execution_count": 24,
   "id": "3eefed11",
   "metadata": {},
   "outputs": [
    {
     "name": "stdout",
     "output_type": "stream",
     "text": [
      "John speaks English.\n",
      "John is eating.\n",
      "English\n",
      "The language of the country is English.\n"
     ]
    }
   ],
   "source": [
    "# Making instance of American class\n",
    "john = American(name=\"John\", age=30, weight=70.5, liked_food=\"Pizza\")\n",
    "\n",
    "# Accessing instance methods\n",
    "print(john.speak()) # Output: John speaks English.\n",
    "print(john.eat()) # Output: John is eating.\n",
    "\n",
    "# Accessing class variable\n",
    "print(American.national_language) # Output: English\n",
    "\n",
    "# Accessing static method\n",
    "print(American.country_language()) # Output: The language of the country is English.\n"
   ]
  },
  {
   "cell_type": "code",
   "execution_count": 25,
   "id": "96342b65",
   "metadata": {},
   "outputs": [
    {
     "name": "stdout",
     "output_type": "stream",
     "text": [
      "John\n",
      "30\n",
      "70.5\n",
      "Pizza\n",
      "English\n"
     ]
    }
   ],
   "source": [
    "print(john.name)\n",
    "print(john.age)\n",
    "print(john.weight)\n",
    "print(john.liked_food)\n",
    "print(American.national_language)"
   ]
  }
 ],
 "metadata": {
  "kernelspec": {
   "display_name": "Python 3",
   "language": "python",
   "name": "python3"
  },
  "language_info": {
   "codemirror_mode": {
    "name": "ipython",
    "version": 3
   },
   "file_extension": ".py",
   "mimetype": "text/x-python",
   "name": "python",
   "nbconvert_exporter": "python",
   "pygments_lexer": "ipython3",
   "version": "3.13.2"
  }
 },
 "nbformat": 4,
 "nbformat_minor": 5
}
