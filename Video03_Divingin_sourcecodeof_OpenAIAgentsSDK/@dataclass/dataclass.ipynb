{
 "cells": [
  {
   "cell_type": "markdown",
   "id": "1b454b7a",
   "metadata": {},
   "source": [
    "## **@dataclass**"
   ]
  },
  {
   "cell_type": "code",
   "execution_count": 3,
   "id": "d76f5185",
   "metadata": {},
   "outputs": [],
   "source": [
    "from dataclasses import dataclass"
   ]
  },
  {
   "cell_type": "code",
   "execution_count": 6,
   "id": "9f590d15",
   "metadata": {},
   "outputs": [],
   "source": [
    "from typing import ClassVar\n",
    "\n",
    "@dataclass\n",
    "class American:\n",
    "    name:str # Instance variable\n",
    "    age:int # Instance variable\n",
    "    weight:float # Instance variable\n",
    "\n",
    "    # Below square bracket representation is called Generic. The reason of writing in square brackets is to indicate that this is a generic type.\n",
    "    language:ClassVar[str] = \"English\" # Class variable\n",
    "\n",
    "    def speak(self):\n",
    "        return f\"{self.name} speaks {American.language}.\"\n",
    "\n",
    "    # Instance method\n",
    "    def eat (self):\n",
    "        return f\"{self.name} is eating.\"\n",
    "    \n",
    "    @staticmethod\n",
    "    def country_language():\n",
    "        return f\"The language of the country is {American.language}.\""
   ]
  },
  {
   "cell_type": "code",
   "execution_count": 7,
   "id": "3eefed11",
   "metadata": {},
   "outputs": [
    {
     "name": "stdout",
     "output_type": "stream",
     "text": [
      "John speaks English.\n",
      "John is eating.\n",
      "English\n",
      "The language of the country is English.\n"
     ]
    }
   ],
   "source": [
    "# Making instance of American class\n",
    "john = American(name=\"John\", age=30, weight=70.5)\n",
    "\n",
    "# Accessing instance methods\n",
    "print(john.speak()) # Output: John speaks English.\n",
    "print(john.eat()) # Output: John is eating.\n",
    "\n",
    "# Accessing class variable\n",
    "print(American.language) # Output: English\n",
    "\n",
    "# Accessing static method\n",
    "print(American.country_language()) # Output: The language of the country is English.\n"
   ]
  },
  {
   "cell_type": "code",
   "execution_count": 8,
   "id": "96342b65",
   "metadata": {},
   "outputs": [
    {
     "name": "stdout",
     "output_type": "stream",
     "text": [
      "John\n",
      "30\n",
      "70.5\n",
      "English\n"
     ]
    }
   ],
   "source": [
    "print(john.name)\n",
    "print(john.age)\n",
    "print(john.weight)\n",
    "print(American.language)"
   ]
  }
 ],
 "metadata": {
  "kernelspec": {
   "display_name": "Python 3",
   "language": "python",
   "name": "python3"
  },
  "language_info": {
   "codemirror_mode": {
    "name": "ipython",
    "version": 3
   },
   "file_extension": ".py",
   "mimetype": "text/x-python",
   "name": "python",
   "nbconvert_exporter": "python",
   "pygments_lexer": "ipython3",
   "version": "3.13.2"
  }
 },
 "nbformat": 4,
 "nbformat_minor": 5
}
